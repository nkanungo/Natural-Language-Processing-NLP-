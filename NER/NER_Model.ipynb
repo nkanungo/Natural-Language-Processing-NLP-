{
 "cells": [
  {
   "cell_type": "markdown",
   "metadata": {
    "colab_type": "text",
    "id": "Lu-4N3oI4Jb-"
   },
   "source": [
    "# Train you NER model using Spacy"
   ]
  },
  {
   "cell_type": "markdown",
   "metadata": {
    "colab_type": "text",
    "id": "iHL0hke94TwZ"
   },
   "source": [
    "**Upload your exported annotated json1 file from Doccano in the folder**"
   ]
  },
  {
   "cell_type": "markdown",
   "metadata": {
    "colab_type": "text",
    "id": "74sY7ib34Gbe"
   },
   "source": [
    "## Import Libraries"
   ]
  },
  {
   "cell_type": "code",
   "execution_count": 1,
   "metadata": {
    "colab": {},
    "colab_type": "code",
    "id": "B3TWyRyn3-JX"
   },
   "outputs": [],
   "source": [
    "# Import Libraries\n",
    "from __future__ import unicode_literals, print_function\n",
    "import numpy as np\n",
    "import pandas as pd\n",
    "import random\n",
    "from pathlib import Path\n",
    "import spacy\n",
    "import re"
   ]
  },
  {
   "cell_type": "markdown",
   "metadata": {
    "colab_type": "text",
    "id": "t59tlQTc6zEf"
   },
   "source": [
    "## Dataset Preparation"
   ]
  },
  {
   "cell_type": "markdown",
   "metadata": {
    "colab_type": "text",
    "id": "bGuzhLU64Q9E"
   },
   "source": [
    "**While annotating there might be trailing and leading whitespaces in your entities, which leads to error while training your model using Spacy. Instead of worrying about it while annotating, we define a function here which trims whitespace**"
   ]
  },
  {
   "cell_type": "code",
   "execution_count": 2,
   "metadata": {
    "colab": {},
    "colab_type": "code",
    "id": "LR66V-or6tdi"
   },
   "outputs": [],
   "source": [
    "# Trim leading and trailing whitespaces from entity spans\n",
    "def trim_entity_spans(data: list) -> list:\n",
    "\n",
    "    invalid_span_tokens = re.compile(r'\\s')\n",
    "#    print(data)\n",
    "    cleaned_data = []\n",
    "    for annotations,text in data:\n",
    " #        print(text)\n",
    "#         print(annotations)\n",
    "        text = text['entities']\n",
    "  #      print(entities)\n",
    "        valid_entities = []\n",
    "        for start, end, label in annotations:\n",
    "            valid_start = start\n",
    "            valid_end = end\n",
    "            while valid_start < len(text) and invalid_span_tokens.match(text[valid_start]):\n",
    "                valid_start += 1\n",
    "            while valid_end > 1 and invalid_span_tokens.match(text[valid_end - 1]):\n",
    "                valid_end -= 1\n",
    "            valid_entities.append([valid_start, valid_end, label])\n",
    "        cleaned_data.append([text, {'entities': valid_entities}])\n",
    "\n",
    "    return cleaned_data"
   ]
  },
  {
   "cell_type": "markdown",
   "metadata": {
    "colab_type": "text",
    "id": "6r11-W8E63t4"
   },
   "source": [
    "**Spacy needs a specific format of data, so we prepare it here from our json data**"
   ]
  },
  {
   "cell_type": "code",
   "execution_count": 3,
   "metadata": {
    "colab": {},
    "colab_type": "code",
    "id": "esyLWvje64YI"
   },
   "outputs": [],
   "source": [
    "# training data\n",
    "dataset = pd.read_json('C:/Users/nihar/Desktop/file_soma.json1', lines=True)\n",
    "dataset.drop(['id', 'meta', 'annotation_approver'],axis=1, inplace=True)\n",
    "TRAINING_DATA = [([i for i in row][1],{\"entities\":[i for i in row][2]}) for row in dataset.itertuples()]\n",
    "#print(TRAINING_DATA)\n",
    "TRAIN_DATA = trim_entity_spans(TRAINING_DATA)"
   ]
  },
  {
   "cell_type": "code",
   "execution_count": 4,
   "metadata": {},
   "outputs": [
    {
     "data": {
      "text/plain": [
       "['Dear Ms. mouse minnie Thank you for applying to Online Admissions at Management Development Institute, Gurgaon. We have received payment from you, details of which are given below. Kindly verify the details and in case of any discrepancy please let us know.  Form No : 1002994 Name : Ms. mouse minnie Payment Type : Credit Card Trans Id : MCIT0990458710 Trans Date : 07-09-2011 22:24:57 Amount : 1750.00  Management Development Institute, Gurgaon Admission Department  The information contained in this electronic message and any attachments to this message are intended for the exclusive use of the addressee(s) and may contain proprietary, confidential or privileged information. If you are not the intended recipient, you should not disseminate, distribute or copy this e-mail. Please notify the sender immediately and destroy all copies of this message and any attachments contained in it.',\n",
       " {'entities': [[69, 110, 'Merchant Name'],\n",
       "   [269, 276, 'Booking/Order ID'],\n",
       "   [288, 300, 'Customer Name'],\n",
       "   [339, 353, 'Transaction ID'],\n",
       "   [367, 386, 'Transaction Date'],\n",
       "   [396, 403, 'Transaction Amount']]}]"
      ]
     },
     "execution_count": 4,
     "metadata": {},
     "output_type": "execute_result"
    }
   ],
   "source": [
    "TRAIN_DATA[0]"
   ]
  },
  {
   "cell_type": "markdown",
   "metadata": {
    "colab_type": "text",
    "id": "RnQ0IX2C7RaG"
   },
   "source": [
    "## Train Your Model"
   ]
  },
  {
   "cell_type": "markdown",
   "metadata": {
    "colab_type": "text",
    "id": "v1aeuOag-GXI"
   },
   "source": [
    "### Defining a function which trains the NER model, tests on an email and saves the model for further training "
   ]
  },
  {
   "cell_type": "code",
   "execution_count": 5,
   "metadata": {
    "colab": {},
    "colab_type": "code",
    "id": "BEJvRFRbci5k"
   },
   "outputs": [],
   "source": [
    "text = \" Order Details  Order Number:  NIO186547 Merchant Site URL:  http://www.theschoolofai.in  Received on: Dec, 9 2010  Total Amount : USD 599.99  Card Holder :  Bryan D. MacKenzie  Card Type :  VISA  Billing Address :  (As entered by the Customer)  6427 14ave Edmonton, AB - t6l1y1 Canada  Customer's Phone Number : 1-780-9041372 Customer's E-mail ID : bdmacken@ualberta.ca Customer's IP Address : 96.52.201.31 ( Analyze IP Address )   Recipient's Name : Bryan D. MacKenzie  Shipping Address :  6427 14ave, Edmonton - t6l1y1, AB, CA  Recipient's Phone Number :  1-780-9041372  Special Instruction :     You have 12 days to execute and capture this order amount from your CCAvenue account interface. After you have executed this order, Please log in at http://world.ccavenue.com and click on 'View Pending Orders' to update the records.   ---------------------------------------------------------------------------------------------------------------- * Caution :  Please use your best judgment in deciding whether to fulfill or cancel this order. If this customer is using a stolen credit card, then you will loose money of this order.  ----------------------------------------------------------------------------------------------------------------  Best Regards   CCAvenue Customer Service\""
   ]
  },
  {
   "cell_type": "code",
   "execution_count": 6,
   "metadata": {
    "colab": {},
    "colab_type": "code",
    "id": "mzE6RVR_G01f"
   },
   "outputs": [],
   "source": [
    "def train_test_savemodel(data= TRAIN_DATA, test_text = text, model=None, new_model_name='mymodel', output_dir='.', n_iter=30):\n",
    "    \n",
    "    #Set up the pipeline and entity recognizer, and train the new entity\n",
    "    if model is not None:\n",
    "        nlp = spacy.load(model)  # load existing spaCy model\n",
    "        print(\"Loaded model '%s'\" % model)\n",
    "    else:\n",
    "        nlp = spacy.blank('en')  # create blank Language class\n",
    "        print(\"Created blank 'en' model\")\n",
    "\n",
    "    # Add entity recognizer to model if it's not in the pipeline\n",
    "    # nlp.create_pipe works for built-ins that are registered with spaCy\n",
    "    if 'ner' not in nlp.pipe_names:\n",
    "        ner = nlp.create_pipe('ner')\n",
    "        nlp.add_pipe(ner)\n",
    "    # otherwise, get it, so we can add labels to it\n",
    "    else:\n",
    "        ner = nlp.get_pipe('ner')\n",
    "    print('phase-1 completed')\n",
    "\n",
    "    # add labels from the train data\n",
    "    for _, annotations in data:\n",
    "        for ent in annotations.get('entities'):\n",
    "            ner.add_label(ent[2])\n",
    "    print('phase-2 completed')\n",
    "\n",
    "    # get names of other pipes to disable them during training\n",
    "    other_pipes = [pipe for pipe in nlp.pipe_names if pipe != 'ner']\n",
    "    with nlp.disable_pipes(*other_pipes):  # only train NER\n",
    "        optimizer = nlp.begin_training()\n",
    "        for itn in range(n_iter):\n",
    "            random.shuffle(data)\n",
    "            losses = {}\n",
    "            for text, annotations in data:\n",
    "                nlp.update([text], [annotations], sgd=optimizer, drop=0.35,\n",
    "                           losses=losses)\n",
    "            print(losses)\n",
    "            \n",
    "    print('phase-3 completed')    \n",
    "\n",
    "    # save model to output directory\n",
    "    if output_dir is not None:\n",
    "        output_dir = Path(output_dir)\n",
    "        if not output_dir.exists():\n",
    "            output_dir.mkdir()\n",
    "        nlp.meta['name'] = new_model_name  # rename model\n",
    "        nlp.to_disk(output_dir)\n",
    "        print(\"Saved model to\", output_dir)\n",
    "\n",
    "        # test the saved model\n",
    "        print('Text for test :', test_text)\n",
    "        print(\"Loading from\", output_dir)\n",
    "        nlp2 = spacy.load(output_dir)\n",
    "        doc = nlp2(test_text)\n",
    "        for ent in doc.ents:\n",
    "            print(ent.label_, \":\", ent.text)"
   ]
  },
  {
   "cell_type": "markdown",
   "metadata": {
    "colab_type": "text",
    "id": "xjnhrPUs-CTi"
   },
   "source": [
    "### Train the model"
   ]
  },
  {
   "cell_type": "code",
   "execution_count": null,
   "metadata": {
    "colab": {
     "base_uri": "https://localhost:8080/",
     "height": 785
    },
    "colab_type": "code",
    "id": "5-s3aD5RRixM",
    "outputId": "804fa47a-1d74-4ba8-c7a8-e10dc253a445"
   },
   "outputs": [
    {
     "name": "stdout",
     "output_type": "stream",
     "text": [
      "Created blank 'en' model\n",
      "phase-1 completed\n",
      "phase-2 completed\n"
     ]
    }
   ],
   "source": [
    "train_test_savemodel(output_dir='C:/Users/nihar/Documents/NERMODEL')"
   ]
  },
  {
   "cell_type": "markdown",
   "metadata": {
    "colab_type": "text",
    "id": "fFuLtZB1APMU"
   },
   "source": [
    "### Retrain the saved model"
   ]
  },
  {
   "cell_type": "code",
   "execution_count": 9,
   "metadata": {
    "colab": {},
    "colab_type": "code",
    "id": "x-aPJuHX-BRZ"
   },
   "outputs": [],
   "source": [
    "text2 = \" Hi John,  Thanks for using Swiggy! Your order has been confirmed and will be delivered shortly.   Look forward to serving you.     Order No:  54100604095  Restaurant:  Chai Point  Track your Order   Item Name  Quantity  Price  Classic Masala Maggi160  Banana Cake169  Cart Subtotal Rs. 129  Packing Charges Rs. 20  GST Rs. 7.45  Grand Total: 118  Delivery Address:  170, 3floor, Amarjyoti Layout, Domlur, Bengaluru, Karnataka 560071, India, Bangalore  Landmark:  Arun Arcade, next to Axis Viviana  Get the App:      Follow us:    © 2017-Swiggy. All rights reserved.   Swiggy,Tower D, 9th Floor, IBC Knowledge Park, Bannerghatta Road, Bangalore - 560029\""
   ]
  },
  {
   "cell_type": "code",
   "execution_count": 16,
   "metadata": {
    "colab": {
     "base_uri": "https://localhost:8080/",
     "height": 547
    },
    "colab_type": "code",
    "id": "pbl3TNRgdPzq",
    "outputId": "18850ec8-ed02-4635-a781-6572a258e0e0"
   },
   "outputs": [
    {
     "name": "stdout",
     "output_type": "stream",
     "text": [
      "Loaded model '.'\n",
      "phase-1 completed\n",
      "phase-2 completed\n",
      "{'ner': 2738.6748667817387}\n",
      "{'ner': 2739.475728160789}\n",
      "{'ner': 2759.9131616103878}\n",
      "{'ner': 2806.6936698466575}\n",
      "{'ner': 2800.996897301178}\n",
      "{'ner': 2970.541562117246}\n",
      "{'ner': 2967.744069606567}\n",
      "{'ner': 3047.4730917415445}\n",
      "{'ner': 2819.6572913517157}\n",
      "{'ner': 2652.039087250424}\n",
      "{'ner': 2604.2075583480278}\n",
      "{'ner': 2695.4105221890536}\n",
      "{'ner': 3006.310835652553}\n",
      "{'ner': 2627.6779870515643}\n",
      "{'ner': 2476.452451731627}\n",
      "{'ner': 2446.1573565407884}\n",
      "{'ner': 2630.1894531701446}\n",
      "{'ner': 2536.349130995529}\n",
      "{'ner': 2565.8477835438825}\n",
      "{'ner': 2517.2402357840015}\n",
      "phase-3 completed\n",
      "Saved model to C:\\Users\\nihar\\Downloads\n",
      "Text for test :  Hi John,  Thanks for using Swiggy! Your order has been confirmed and will be delivered shortly.   Look forward to serving you.     Order No:  54100604095  Restaurant:  Chai Point  Track your Order   Item Name  Quantity  Price  Classic Masala Maggi160  Banana Cake169  Cart Subtotal Rs. 129  Packing Charges Rs. 20  GST Rs. 7.45  Grand Total: 118  Delivery Address:  170, 3floor, Amarjyoti Layout, Domlur, Bengaluru, Karnataka 560071, India, Bangalore  Landmark:  Arun Arcade, next to Axis Viviana  Get the App:      Follow us:    © 2017-Swiggy. All rights reserved.   Swiggy,Tower D, 9th Floor, IBC Knowledge Park, Bannerghatta Road, Bangalore - 560029\n",
      "Loading from C:\\Users\\nihar\\Downloads\n",
      "Merchant Name : Swiggy\n",
      "Booking/Order ID : 54100604095\n",
      "Product Name : Classic Masala Maggi160\n"
     ]
    }
   ],
   "source": [
    "train_test_savemodel(test_text = text2, model= '.', n_iter=20,output_dir='C:/Users/nihar/Documents/NERMODEL' )"
   ]
  },
  {
   "cell_type": "code",
   "execution_count": null,
   "metadata": {},
   "outputs": [],
   "source": []
  },
  {
   "cell_type": "code",
   "execution_count": 14,
   "metadata": {},
   "outputs": [
    {
     "name": "stdout",
     "output_type": "stream",
     "text": [
      "Loaded model '.'\n",
      "phase-1 completed\n",
      "phase-2 completed\n",
      "{'ner': 2921.611525464816}\n",
      "phase-3 completed\n",
      "Saved model to .\n",
      "Text for test :  Order ID 5170473231    May 16, 2018 07:40 AM      Rs 1155Paid Successfully To           Bangalore Electricity Supply Company Ltd. (BESCOM)     Consumer \n",
      "Loading from .\n",
      "Booking/Order ID : 5170473231\n",
      "Booking/Delivery Date : May 16, 2018\n"
     ]
    }
   ],
   "source": [
    "text3= \" Order ID 5170473231    May 16, 2018 07:40 AM      Rs 1155Paid Successfully To           Bangalore Electricity Supply Company Ltd. (BESCOM)     Consumer \"\n",
    "train_test_savemodel(test_text = text3, model= '.', n_iter=20, )"
   ]
  },
  {
   "cell_type": "code",
   "execution_count": null,
   "metadata": {},
   "outputs": [],
   "source": [
    "def predict(test_text,):\n",
    "    print('Text for test :', test_text)\n",
    "    print(\"Loading from\", output_dir)\n",
    "    nlp2 = spacy.load(output_dir)\n",
    "    doc = nlp2(test_text)\n",
    "    for ent in doc.ents:\n",
    "        print(ent.label_, \":\", ent.text)"
   ]
  },
  {
   "cell_type": "code",
   "execution_count": null,
   "metadata": {},
   "outputs": [],
   "source": [
    "text2 = \" Hi John,  Thanks for using Swiggy! Your order has been confirmed and will be delivered shortly.   Look forward to serving you.     Order No:  54100604095  Restaurant:  Chai Point  Track your Order   Item Name  Quantity  Price  Classic Masala Maggi160  Banana Cake169  Cart Subtotal Rs. 129  Packing Charges Rs. 20  GST Rs. 7.45  Grand Total: 118  Delivery Address:  170, 3floor, Amarjyoti Layout, Domlur, Bengaluru, Karnataka 560071, India, Bangalore  Landmark:  Arun Arcade, next to Axis Viviana  Get the App:      Follow us:    © 2017-Swiggy. All rights reserved.   Swiggy,Tower D, 9th Floor, IBC Knowledge Park, Bannerghatta Road, Bangalore - 560029\"\n",
    "train_test_savemodel(test_text = text2, model= '.', n_iter=20,output_dir='C:/Users/nihar/Downloads' )"
   ]
  },
  {
   "cell_type": "markdown",
   "metadata": {
    "colab_type": "text",
    "id": "Luz1kst-g9Rm"
   },
   "source": [
    "**Due to less data, these shows slight error on test text.**"
   ]
  }
 ],
 "metadata": {
  "colab": {
   "collapsed_sections": [],
   "name": "NER_Model.ipynb",
   "provenance": []
  },
  "kernelspec": {
   "display_name": "Python 3",
   "language": "python",
   "name": "python3"
  },
  "language_info": {
   "codemirror_mode": {
    "name": "ipython",
    "version": 3
   },
   "file_extension": ".py",
   "mimetype": "text/x-python",
   "name": "python",
   "nbconvert_exporter": "python",
   "pygments_lexer": "ipython3",
   "version": "3.6.5"
  }
 },
 "nbformat": 4,
 "nbformat_minor": 1
}
